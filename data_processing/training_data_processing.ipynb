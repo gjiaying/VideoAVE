{
 "cells": [
  {
   "cell_type": "code",
   "execution_count": 3,
   "id": "a9f8b7a2-33c7-497d-94c8-9fd194d3f0f4",
   "metadata": {},
   "outputs": [],
   "source": [
    "#attribute level llamafactory\n",
    "import pandas as pd\n",
    "import json\n",
    "import ast\n",
    "\n",
    "\n",
    "data = pd.read_csv('./final_data/arts_train.csv')\n",
    "ids = data['product_id'].tolist()\n",
    "aspects = data['aspects'].tolist()\n",
    "\n",
    "final_data = []\n",
    "for i in range(len(ids)):\n",
    "    dics = {}\n",
    "    attributes = \", \".join(ast.literal_eval(aspects[i]).keys())\n",
    "    dics['messages'] = [{\"content\": f\"<video>You are a professional product analyst specializing in attribute extraction for leading e-commerce platforms. Your task is to extract the values of the following attributes for the product in this video: {attributes}. Answer it in this format only: 'attribute1': 'attribute1_value', 'attribute2': 'attribute2_value', ... Choose one specific value for each attribute.\", \"role\": \"user\"},{\"content\": aspects[i],\"role\": \"assistant\"}]\n",
    "    dics['videos'] = [f\"/data/datasets/amazon_videos/{ids[i]}.mp4\"]\n",
    "    final_data.append(dics)\n",
    "\n",
    "with open('./LLaMA-Factory/data/arts_training_v1.json', 'w') as json_file:\n",
    "    json.dump(final_data, json_file, indent=4)"
   ]
  },
  {
   "cell_type": "code",
   "execution_count": 4,
   "id": "c91c66e6-c5f1-4e39-b2b4-6597dc74db38",
   "metadata": {},
   "outputs": [],
   "source": [
    "#generalize llamafactory\n",
    "import pandas as pd\n",
    "import json\n",
    "import ast\n",
    "\n",
    "\n",
    "data = pd.read_csv('./final_data/arts_train.csv')\n",
    "ids = data['product_id'].tolist()\n",
    "aspects = data['aspects'].tolist()\n",
    "\n",
    "final_data = []\n",
    "for i in range(len(ids)):\n",
    "    dics = {}\n",
    "    attributes = \", \".join(ast.literal_eval(aspects[i]).keys())\n",
    "    dics['messages'] = [{\"content\": f\"<video>You are a professional product analyst specializing in attribute extraction for leading e-commerce platforms. Your task is to extract the attributes of the product in this video. Answer it in this format only: 'attribute1': 'attribute1_value', 'attribute2': 'attribute2_value', ... Choose one specific value for each attribute.\", \"role\": \"user\"},{\"content\": aspects[i],\"role\": \"assistant\"}]\n",
    "    dics['videos'] = [f\"/data/datasets/amazon_videos/{ids[i]}.mp4\"]\n",
    "    final_data.append(dics)\n",
    "\n",
    "with open('./LLaMA-Factory/data/baby_training_v2.json', 'w') as json_file:\n",
    "    json.dump(final_data, json_file, indent=4)"
   ]
  }
 ],
 "metadata": {
  "kernelspec": {
   "display_name": "peft",
   "language": "python",
   "name": "python3"
  },
  "language_info": {
   "codemirror_mode": {
    "name": "ipython",
    "version": 3
   },
   "file_extension": ".py",
   "mimetype": "text/x-python",
   "name": "python",
   "nbconvert_exporter": "python",
   "pygments_lexer": "ipython3",
   "version": "3.11.8"
  }
 },
 "nbformat": 4,
 "nbformat_minor": 5
}
